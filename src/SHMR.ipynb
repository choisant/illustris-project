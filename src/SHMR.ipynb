{
 "metadata": {
  "language_info": {
   "codemirror_mode": {
    "name": "ipython",
    "version": 3
   },
   "file_extension": ".py",
   "mimetype": "text/x-python",
   "name": "python",
   "nbconvert_exporter": "python",
   "pygments_lexer": "ipython3",
   "version": 3
  },
  "orig_nbformat": 2,
  "kernelspec": {
   "name": "python_defaultSpec_1597053199951",
   "display_name": "Python 3.8.2 64-bit"
  }
 },
 "nbformat": 4,
 "nbformat_minor": 2,
 "cells": [
  {
   "cell_type": "markdown",
   "metadata": {},
   "source": [
    "# Stellar-to-halo mass relation\n",
    "\n",
    "The stellar-to-halo mass realtion (SHMR) is one of the fundamental relations when looking at a population of galaxies. It is well known that the evolution and properties of galaxies are strongly correlated to their dark matter (DM) halos. The SHMR is one that is easily available in computer models such as the IllustrisTNG, as the masses of different types of particles are directly part of the simulation.\n",
    "\n",
    "Here, the SHMR is calculated from the group catalogs of the TNG100-1 run at redshift 0."
   ]
  },
  {
   "cell_type": "code",
   "execution_count": null,
   "metadata": {},
   "outputs": [],
   "source": [
    "import illustris_python as il\n",
    "import matplotlib.pyplot as plt\n",
    "import numpy as np"
   ]
  },
  {
   "cell_type": "markdown",
   "metadata": {},
   "source": [
    "The data is read into Python. Both the halos and the subhalos are loaded. The halos may include more than one subhalo. The halos with only one subhalo are so called \"field-galaxies\". The most massive galaxy in a halo is the \"central galaxy\", the other ones are defined as satellite galaxies."
   ]
  },
  {
   "cell_type": "code",
   "execution_count": null,
   "metadata": {},
   "outputs": [],
   "source": [
    "basePath = \"./data/tng100-1/output\"\n",
    "subhaloFields = ['SubhaloMassType', 'SubhaloFlag', \"SubhaloPos\"]\n",
    "haloFields = [\"GroupMassType\", \"GroupNsubs\", \"GroupPos\"]\n",
    "subhalos = il.groupcat.loadSubhalos(basePath,99,fields=subhaloFields)\n",
    "halos = il.groupcat.loadHalos(basePath,99,fields=haloFields)\n",
    "\n",
    "subhaloFlag = subhalos[\"SubhaloFlag\"]\n",
    "subhaloMasses = subhalos[\"SubhaloMassType\"]\n",
    "subhaloDmMass = []\n",
    "subhaloStellarMass = []\n",
    "\n",
    "subhaloPos = subhalos[\"SubhaloPos\"]\n",
    "haloPos = halos[\"GroupPos\"]\n",
    "centralHaloDmMass = []\n",
    "centralHaloStellarMass = []\n",
    "\n",
    "numberOfSubhalos=halos[\"GroupNsubs\"]\n",
    "haloMasses = halos[\"GroupMassType\"]\n",
    "haloDmMass = []\n",
    "haloStellarMass = []\n",
    "\n",
    "fieldHaloDmMass = []\n",
    "fieldHaloStellarMass = []\n",
    "fields = 0"
   ]
  },
  {
   "cell_type": "code",
   "execution_count": null,
   "metadata": {},
   "outputs": [],
   "source": []
  }
 ]
}